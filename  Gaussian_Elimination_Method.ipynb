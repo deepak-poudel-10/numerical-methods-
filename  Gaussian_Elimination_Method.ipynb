{
 "cells": [
  {
   "cell_type": "markdown",
   "metadata": {},
   "source": []
  },
  {
   "cell_type": "markdown",
   "metadata": {},
   "source": [
    " "
   ]
  },
  {
   "cell_type": "code",
   "execution_count": 2,
   "metadata": {},
   "outputs": [],
   "source": [
    "import numpy as np\n",
    "def forward_elimination(A,b,n):\n",
    "    '''Calculates the forward part of the Gaussian Elimination'''\n",
    "    for row in range (0,n-1):\n",
    "        for i in range (row+1, n):\n",
    "            factor = A[i,row]/A[row, row]\n",
    "            for j in range (row,n):\n",
    "                A[i,j]=A[i,j]-factor *A[row, j]\n",
    "                b[i]=b[i]-factor*b[row]\n",
    "                print('A=\\n%sand b = %s'% (A,b))\n",
    "                return A, b\n",
    "def back_substitution(a,b,n):\n",
    "        '''Does the back substitution and returns the gasuss result '''\n",
    "        x = np.zeros((n,1))\n",
    "        x[n-1]=b[n-1]/a[n-1,n-1]\n",
    "        for row in range(n-2, -1, -1):\n",
    "            sums = b[row]\n",
    "            for j in range (row+1,n):\n",
    "                sums = sums-a[row,j]*x[j]\n",
    "                x[row]= sums/a[row,row]\n",
    "                return x\n",
    "def gauss(A, b):\n",
    "    \"\"\"\n",
    "    This function performs Gauss elimination without pivoting.\n",
    "    \"\"\"\n",
    "    n = A.shape[0]\n",
    "\n",
    "    # Check for zero diagonal elements\n",
    "    if any(np.diag(A)==0):\n",
    "        raise ZeroDivisionError(('Division by zero will occur; '\n",
    "                                  'pivoting currently not supported'))\n",
    "\n",
    "    A, b = forward_elimination(A, b, n)\n",
    "    return back_substitution(A, b, n)\n"
   ]
  },
  {
   "cell_type": "code",
   "execution_count": 3,
   "metadata": {},
   "outputs": [
    {
     "name": "stdout",
     "output_type": "stream",
     "text": [
      "A=\n",
      "[[ 1  1  1  1]\n",
      " [ 0 -2 -2 -2]\n",
      " [ 1  4 -4  1]\n",
      " [ 1 -5 -5 -3]]and b = [ 0  4  2 -4]\n",
      "Gauss result is x = \n",
      " [[ 0.        ]\n",
      " [ 0.        ]\n",
      " [-0.16666667]\n",
      " [ 1.33333333]]\n"
     ]
    }
   ],
   "source": [
    "if __name__ == '__main__':\n",
    "    A = np.array([[1,   1,   1, 1],\n",
    "                  [1, -2,  -2, -2],\n",
    "                  [1,   4, -4, 1],\n",
    "                  [1, -5,  -5, -3]])\n",
    "    b = np.array([0, 4, 2, -4])\n",
    "    x = gauss(A, b)\n",
    "    print('Gauss result is x = \\n %s' % x)"
   ]
  },
  {
   "cell_type": "code",
   "execution_count": null,
   "metadata": {},
   "outputs": [],
   "source": []
  },
  {
   "cell_type": "code",
   "execution_count": null,
   "metadata": {},
   "outputs": [],
   "source": []
  }
 ],
 "metadata": {
  "kernelspec": {
   "display_name": "Python 3",
   "language": "python",
   "name": "python3"
  },
  "language_info": {
   "codemirror_mode": {
    "name": "ipython",
    "version": 3
   },
   "file_extension": ".py",
   "mimetype": "text/x-python",
   "name": "python",
   "nbconvert_exporter": "python",
   "pygments_lexer": "ipython3",
   "version": "3.8.3"
  }
 },
 "nbformat": 4,
 "nbformat_minor": 4
}
