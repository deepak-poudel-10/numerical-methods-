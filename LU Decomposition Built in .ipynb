{
 "cells": [
  {
   "cell_type": "code",
   "execution_count": 1,
   "metadata": {},
   "outputs": [
    {
     "name": "stdout",
     "output_type": "stream",
     "text": [
      "A the given matrix:\n",
      "array([[ 2, -1, -2],\n",
      "       [-4,  6,  3],\n",
      "       [-4, -2,  8]])\n",
      " matrix with pivoted elements :\n",
      "array([[0., 0., 1.],\n",
      "       [1., 0., 0.],\n",
      "       [0., 1., 0.]])\n",
      "lower triangular matrix\n",
      "array([[ 1.  ,  0.  ,  0.  ],\n",
      "       [ 1.  ,  1.  ,  0.  ],\n",
      "       [-0.5 , -0.25,  1.  ]])\n",
      "Upper traingular:\n",
      "array([[-4.  ,  6.  ,  3.  ],\n",
      "       [ 0.  , -8.  ,  5.  ],\n",
      "       [ 0.  ,  0.  ,  0.75]])\n"
     ]
    },
    {
     "name": "stderr",
     "output_type": "stream",
     "text": [
      "<ipython-input-1-7e3f8dbedd7c>:4: DeprecationWarning: scipy.array is deprecated and will be removed in SciPy 2.0.0, use numpy.array instead\n",
      "  A =scipy.array([[2,-1,-2],[-4,6,3],[-4,-2,8]])\n"
     ]
    }
   ],
   "source": [
    "import pprint \n",
    "import scipy\n",
    "import scipy.linalg as sl\n",
    "A =scipy.array([[2,-1,-2],[-4,6,3],[-4,-2,8]])\n",
    "P,L,U = sl.lu(A)\n",
    "print (\"A the given matrix:\")\n",
    "pprint.pprint(A)\n",
    "\n",
    "print (\" matrix with pivoted elements :\")\n",
    "pprint.pprint(P)\n",
    "\n",
    "print(\"lower triangular matrix\")\n",
    "pprint.pprint(L)\n",
    "\n",
    "print(\"Upper traingular:\")\n",
    "pprint.pprint(U)"
   ]
  },
  {
   "cell_type": "code",
   "execution_count": 2,
   "metadata": {},
   "outputs": [
    {
     "data": {
      "text/plain": [
       "array([[-4.,  6.,  3.],\n",
       "       [-4., -2.,  8.],\n",
       "       [ 2., -1., -2.]])"
      ]
     },
     "execution_count": 2,
     "metadata": {},
     "output_type": "execute_result"
    }
   ],
   "source": [
    "L@U\n"
   ]
  },
  {
   "cell_type": "code",
   "execution_count": null,
   "metadata": {},
   "outputs": [],
   "source": []
  }
 ],
 "metadata": {
  "kernelspec": {
   "display_name": "Python 3",
   "language": "python",
   "name": "python3"
  },
  "language_info": {
   "codemirror_mode": {
    "name": "ipython",
    "version": 3
   },
   "file_extension": ".py",
   "mimetype": "text/x-python",
   "name": "python",
   "nbconvert_exporter": "python",
   "pygments_lexer": "ipython3",
   "version": "3.8.3"
  }
 },
 "nbformat": 4,
 "nbformat_minor": 4
}
