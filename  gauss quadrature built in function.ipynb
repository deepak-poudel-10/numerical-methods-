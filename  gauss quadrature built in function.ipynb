{
 "cells": [
  {
   "cell_type": "code",
   "execution_count": 1,
   "metadata": {},
   "outputs": [
    {
     "name": "stdout",
     "output_type": "stream",
     "text": [
      "(53.33333333333333, 7.105427357601002e-15)\n"
     ]
    }
   ],
   "source": [
    "# import scipy.integrate.\n",
    "from scipy import integrate\n",
    "  \n",
    "gfg = lambda x: x**2 + 2 * x + 4\n",
    "  \n",
    "# using scipy.integrate.quadrature() method\n",
    "integration = integrate.quadrature(gfg, 0.0, 4.0)\n",
    "  \n",
    "print(integration)"
   ]
  },
  {
   "cell_type": "code",
   "execution_count": null,
   "metadata": {},
   "outputs": [],
   "source": []
  }
 ],
 "metadata": {
  "kernelspec": {
   "display_name": "Python 3",
   "language": "python",
   "name": "python3"
  },
  "language_info": {
   "codemirror_mode": {
    "name": "ipython",
    "version": 3
   },
   "file_extension": ".py",
   "mimetype": "text/x-python",
   "name": "python",
   "nbconvert_exporter": "python",
   "pygments_lexer": "ipython3",
   "version": "3.8.3"
  }
 },
 "nbformat": 4,
 "nbformat_minor": 4
}
