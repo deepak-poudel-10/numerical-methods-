{
 "cells": [
  {
   "cell_type": "code",
   "execution_count": 1,
   "metadata": {},
   "outputs": [
    {
     "name": "stdout",
     "output_type": "stream",
     "text": [
      "The value of root is -1.3958\n"
     ]
    }
   ],
   "source": [
    "def func(x):\n",
    "    return x**5-x**4+2*x**3+5*x**2-2*x+2\n",
    "def bisection(a,b):\n",
    "    if (func(a)*func(b) >=0):\n",
    "        print(\"The solution doesnot lie between your two approximations:\")\n",
    "        return\n",
    "    c = a\n",
    "    while((b-a)>=0.0000001):\n",
    "        c =(a+b)/2\n",
    "        if (func(c)==0.0):\n",
    "            break\n",
    "        if(func(c)*func(a)<0):\n",
    "            b=c\n",
    "        else:\n",
    "            a=c\n",
    "    print(\"The value of root is\",\"%.4f\"%c)\n",
    "    \n",
    "\n",
    "a=-100\n",
    "b=200\n",
    "\n",
    "bisection(a,b)"
   ]
  },
  {
   "cell_type": "code",
   "execution_count": null,
   "metadata": {},
   "outputs": [],
   "source": []
  }
 ],
 "metadata": {
  "kernelspec": {
   "display_name": "Python 3",
   "language": "python",
   "name": "python3"
  },
  "language_info": {
   "codemirror_mode": {
    "name": "ipython",
    "version": 3
   },
   "file_extension": ".py",
   "mimetype": "text/x-python",
   "name": "python",
   "nbconvert_exporter": "python",
   "pygments_lexer": "ipython3",
   "version": "3.8.3"
  }
 },
 "nbformat": 4,
 "nbformat_minor": 4
}
