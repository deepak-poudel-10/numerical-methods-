{
 "cells": [
  {
   "cell_type": "code",
   "execution_count": 21,
   "metadata": {},
   "outputs": [],
   "source": [
    "def newton(f,Df,x0,epsilon,max_iter):\n",
    "    '''Appriximate the solution of f(x)= 0 by using Newton Rapson Method.\n",
    "    \n",
    "    Parameters\n",
    "    ------------------------------------------------------\n",
    "    f: function for which we are searching for a solution f(x) = 0.\n",
    "    Df: Derivative of the function f(x)\n",
    "    x0: number which is the initial guess for the solution f(x)=0\n",
    "    epsilon: number which is the stopping criteria and it is, abs(f(x)) < epsilon\n",
    "    max_iter: integer which denotes the maximum number of iterations'''\n",
    "    xn= x0\n",
    "    for n in range (0,max_iter):\n",
    "        fxn= f(xn)\n",
    "        if abs(fxn)< epsilon:\n",
    "            print(\"The root of the given equation is:\")\n",
    "            return xn\n",
    "        Dfxn= Df(xn)\n",
    "        if Dfxn == 0:\n",
    "            print(\"The derivative of the function is zero and thus the no solution is found\")\n",
    "            \n",
    "        xn= xn - fxn/Dfxn\n",
    "    print(\"Exceeded maximum number of iterations. No solution found.\")\n",
    "    return none\n",
    "    \n",
    "        "
   ]
  },
  {
   "cell_type": "code",
   "execution_count": 22,
   "metadata": {},
   "outputs": [
    {
     "name": "stdout",
     "output_type": "stream",
     "text": [
      "The root of the given equation is:\n",
      "1.4655712318767877\n"
     ]
    }
   ],
   "source": [
    "p = lambda x: x**3-x**2-1\n",
    "Dp = lambda x: 3*x**2-2*x\n",
    "approx=newton(p,Dp,1,1e-10,10)\n",
    "print(approx)"
   ]
  },
  {
   "cell_type": "code",
   "execution_count": 23,
   "metadata": {},
   "outputs": [
    {
     "name": "stdout",
     "output_type": "stream",
     "text": [
      "The root of the given equation is:\n",
      "1.4655712318767877\n"
     ]
    }
   ],
   "source": [
    "f = lambda x : x**1/3\n",
    "Df = lambda x: (1/3)*x**(-2/3)\n",
    "apprrox = newton(f,Df,1,1e-10,100)\n",
    "print(approx)"
   ]
  },
  {
   "cell_type": "code",
   "execution_count": 24,
   "metadata": {},
   "outputs": [
    {
     "name": "stdout",
     "output_type": "stream",
     "text": [
      "The root of the given equation is:\n",
      "0.1463595047210271\n"
     ]
    }
   ],
   "source": [
    "f = lambda x:x**3 - 0.165*x**2+3.993*10**-4\n",
    "Df = lambda x: 3*x**2 - 0.165*2*x\n",
    "approx = newton(f,Df,1,1e-10,100)\n",
    "print(approx)"
   ]
  },
  {
   "cell_type": "code",
   "execution_count": 25,
   "metadata": {},
   "outputs": [
    {
     "name": "stdout",
     "output_type": "stream",
     "text": [
      "The root of the given equation is:\n",
      "1.9999999850988388\n"
     ]
    }
   ],
   "source": [
    "f = lambda x: x**2 -4*x +4 \n",
    "Df = lambda x: 2*x - 4\n",
    "approx = newton(f,Df,1, 1e-30,1000000)\n",
    "print(approx)"
   ]
  },
  {
   "cell_type": "code",
   "execution_count": 26,
   "metadata": {},
   "outputs": [
    {
     "name": "stdout",
     "output_type": "stream",
     "text": [
      "The root of the given equation is:\n",
      "-1.3958146688110007\n"
     ]
    }
   ],
   "source": [
    "f = lambda x: x**5 -x**4+2*x**3+5*x**2-2*x+2\n",
    "Df = lambda x: 5*x**4-4*x**3+6*x**2+10*x\n",
    "approx = newton(f,Df,1, 1e-10,10000)\n",
    "print(approx) "
   ]
  },
  {
   "cell_type": "code",
   "execution_count": 27,
   "metadata": {},
   "outputs": [
    {
     "name": "stdout",
     "output_type": "stream",
     "text": [
      "The root of the given equation is:\n",
      "1.997186856711671\n"
     ]
    }
   ],
   "source": [
    "f=lambda x: x**2 -4*x + 4\n",
    "Df = lambda x: 2**x -4\n",
    "approx= newton(f,Df,1,1e-5,100)\n",
    "print(approx)"
   ]
  },
  {
   "cell_type": "code",
   "execution_count": null,
   "metadata": {},
   "outputs": [],
   "source": []
  }
 ],
 "metadata": {
  "kernelspec": {
   "display_name": "Python 3",
   "language": "python",
   "name": "python3"
  },
  "language_info": {
   "codemirror_mode": {
    "name": "ipython",
    "version": 3
   },
   "file_extension": ".py",
   "mimetype": "text/x-python",
   "name": "python",
   "nbconvert_exporter": "python",
   "pygments_lexer": "ipython3",
   "version": "3.8.3"
  }
 },
 "nbformat": 4,
 "nbformat_minor": 4
}
