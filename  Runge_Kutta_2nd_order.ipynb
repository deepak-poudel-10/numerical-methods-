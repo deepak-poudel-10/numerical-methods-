{
 "cells": [
  {
   "cell_type": "code",
   "execution_count": 5,
   "metadata": {},
   "outputs": [
    {
     "name": "stdout",
     "output_type": "stream",
     "text": [
      "y(x) = 0.6455901672629244\n"
     ]
    }
   ],
   "source": [
    "# Python3 program to implement Runge-Kutta 2nd order method to solve Differential equations\n",
    "# A sample differential equation   \"dy/dx = (x - y)/2\"\n",
    " \n",
    "def dydx(x, y) :\n",
    "    return (x + y - 2); \n",
    "# Finds value of y for a given x \n",
    "# using step size h  and initial value y0 at x0. \n",
    "def rungeKutta(x0, y0, x, h) : \n",
    "    # Count number of iterations \n",
    "    # using step size or \n",
    "    # step height h \n",
    "    n = round((x - x0) / h);\n",
    "    # Iterate for number of iterations \n",
    "    y = y0; \n",
    "      \n",
    "    for i in range(1, n + 1) :\n",
    "        # Apply Runge Kutta Formulas \n",
    "        # to find next value of y \n",
    "        k1 = h * dydx(x0, y); \n",
    "        k2 = h * dydx(x0 + 0.5 * h, y + 0.5 * k1); \n",
    "       # Update next value of y \n",
    "        y = y + (1.0 / 6.0) * (k1 + 2 * k2); \n",
    "       # Update next value of x \n",
    "        x0 = x0 + h; \n",
    "    return y; \n",
    "  \n",
    "# Driver Code \n",
    "if __name__ == \"__main__\" : \n",
    "    x0 = 0; y = 1; \n",
    "    x = 2; h = 0.2; \n",
    "    print(\"y(x) =\",rungeKutta(x0, y, x, h)); "
   ]
  },
  {
   "cell_type": "code",
   "execution_count": null,
   "metadata": {},
   "outputs": [],
   "source": [
    " "
   ]
  },
  {
   "cell_type": "code",
   "execution_count": null,
   "metadata": {},
   "outputs": [],
   "source": []
  }
 ],
 "metadata": {
  "kernelspec": {
   "display_name": "Python 3",
   "language": "python",
   "name": "python3"
  },
  "language_info": {
   "codemirror_mode": {
    "name": "ipython",
    "version": 3
   },
   "file_extension": ".py",
   "mimetype": "text/x-python",
   "name": "python",
   "nbconvert_exporter": "python",
   "pygments_lexer": "ipython3",
   "version": "3.8.3"
  }
 },
 "nbformat": 4,
 "nbformat_minor": 4
}
